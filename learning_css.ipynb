{
 "cells": [
  {
   "cell_type": "markdown",
   "metadata": {},
   "source": [
    "# Learning CSS\n",
    "- CSS stands for **Cascading Style Sheets**.\n",
    "- A CSS rule is made up of a selector and a declaration:\n",
    "\n",
    "<img src=\"css-syntax.png\">\n"
   ]
  },
  {
   "cell_type": "markdown",
   "metadata": {},
   "source": [
    "# HTML Styling using Cascading Style Sheets (CSS)"
   ]
  },
  {
   "cell_type": "markdown",
   "metadata": {},
   "source": [
    "- CSS is used to provide robust formatting & styling to HTML/XHTML elements or tags.\n",
    "- Defines how HTML/XHTML elements are to be display online and/or offline."
   ]
  },
  {
   "cell_type": "markdown",
   "metadata": {},
   "source": [
    "## CSS Usage Modes"
   ]
  },
  {
   "cell_type": "markdown",
   "metadata": {},
   "source": [
    "1. Inline Mode: Used to apply formatting or styling to a single HTML/XHTML element.\n",
    "2. Internal Mode: Used to apply formatting or styling to a single HTML/XHTML webpage.\n",
    "3. External Mode: Used to apply formatting or styling to multiple HTML/XHTML webpages."
   ]
  },
  {
   "cell_type": "markdown",
   "metadata": {},
   "source": [
    "### Inline Mode\n",
    "Uses the `style` attribute of an element to set formatting effects:"
   ]
  },
  {
   "cell_type": "code",
   "execution_count": null,
   "metadata": {
    "vscode": {
     "languageId": "html"
    }
   },
   "outputs": [],
   "source": [
    "<!DOCTYPE html>\n",
    "<html>\n",
    "    <head>\n",
    "        <title>This is my webpage</title>\n",
    "    </head>\n",
    "    <body>\n",
    "        <h1 style = \"color:red\">Heading text with RED color</h1>\n",
    "    </body>\n",
    "</html>"
   ]
  },
  {
   "cell_type": "markdown",
   "metadata": {},
   "source": [
    "### Internal Mode\n",
    "Uses the `<style></style>` tag and it is defined within the `<head></head>` section of a webpage."
   ]
  },
  {
   "cell_type": "code",
   "execution_count": null,
   "metadata": {
    "vscode": {
     "languageId": "html"
    }
   },
   "outputs": [],
   "source": [
    "<!DOCTYPE html>\n",
    "<html>\n",
    "    <head>\n",
    "        <title>This is my webpage</title>\n",
    "        <style>\n",
    "            h1 {color:red;}\n",
    "        </style>\n",
    "    </head>\n",
    "    <body>\n",
    "        <h1>This is a heading</h1>\n",
    "    </body>\n",
    "</html>"
   ]
  },
  {
   "cell_type": "markdown",
   "metadata": {},
   "source": [
    "### External Mode\n",
    "Uses an external file defined as `.css` and it is linked to the `<head></head>` section of a webpage via the `<link />` tag."
   ]
  },
  {
   "cell_type": "code",
   "execution_count": null,
   "metadata": {
    "vscode": {
     "languageId": "html"
    }
   },
   "outputs": [],
   "source": [
    "<!DOCTYPE html>\n",
    "<html>\n",
    "    <head>\n",
    "        <link rel=\"stylesheet\" href=\"style_sheet.css\"/>\n",
    "    </head>\n",
    "    <body>\n",
    "        <h1>This is a heading</h1>\n",
    "        <h2>This is another heading</h2>\n",
    "    </body>\n",
    "</html>"
   ]
  },
  {
   "cell_type": "markdown",
   "metadata": {},
   "source": [
    "# Selectors"
   ]
  },
  {
   "cell_type": "markdown",
   "metadata": {},
   "source": [
    "## Contextual Selectors\n",
    "We must differentiate between these two:\n",
    "1. Applied to `em inside h1`: h1 em {color:blue:}\n",
    "2. Applied to `h1 and em`: h1, em {color:blue;} "
   ]
  },
  {
   "cell_type": "markdown",
   "metadata": {},
   "source": [
    "## Class selectors\n"
   ]
  },
  {
   "cell_type": "raw",
   "metadata": {},
   "source": [
    "p.normal {property-value list}\n",
    "p.warning {property-value list}\n",
    "\n",
    "<p class = \"normal\">\n",
    "A paragraph in 'normal' presentation style\n",
    "</p>\n",
    "\n",
    "<p class = \"warning\">\n",
    "A paragraph in 'warning' presentation style\n",
    "</p>"
   ]
  },
  {
   "cell_type": "markdown",
   "metadata": {},
   "source": [
    "## Generic selectors"
   ]
  },
  {
   "cell_type": "raw",
   "metadata": {},
   "source": [
    ".sale {property-value list}\n",
    "\n",
    "<h1 class = \"sale\"> Weekend Sale </h1>\n",
    "<p class = \"sale\"> … </p>"
   ]
  },
  {
   "cell_type": "markdown",
   "metadata": {},
   "source": [
    "## Universal selectors\n",
    "These are applied to the entirety of the page:\n",
    "`* {property-value list}`"
   ]
  },
  {
   "cell_type": "markdown",
   "metadata": {},
   "source": [
    "## ID selectors"
   ]
  },
  {
   "cell_type": "raw",
   "metadata": {},
   "source": [
    "#section14 {font-size: 20}\n",
    "\n",
    "<h2 id = \"section14\"> 1.4 Calico Cats </h2>"
   ]
  },
  {
   "cell_type": "markdown",
   "metadata": {},
   "source": [
    "## Child selector (>)\n",
    "Selects all elements that are the children of a specified element."
   ]
  },
  {
   "cell_type": "code",
   "execution_count": null,
   "metadata": {
    "vscode": {
     "languageId": "html"
    }
   },
   "outputs": [],
   "source": [
    "<!DOCTYPE html>\n",
    "<html>\n",
    "    <head>\n",
    "        <title>Child Selector</title>\n",
    "        <style>\n",
    "            div > p {\n",
    "                background-color: yellow;}\n",
    "        </style>\n",
    "    </head>\n",
    "    <body>\n",
    "        <div>\n",
    "            <p>Paragraph 1 in the div.</p>\n",
    "            <p>Paragraph 2 in the div.</p>\n",
    "            <section>\n",
    "            <!-- not Child but Descendant -->\n",
    "            <p>Paragraph 3 in the div (inside a section \n",
    "            element).</p>\n",
    "            </section>\n",
    "            <p>Paragraph 4 in the div.</p>\n",
    "        </div>        \n",
    "    </body>\n",
    "</html>"
   ]
  },
  {
   "cell_type": "markdown",
   "metadata": {},
   "source": [
    "## Adjacent Sibling Selector (+)\n",
    "Selects an element that is directly after another specified element."
   ]
  },
  {
   "cell_type": "code",
   "execution_count": null,
   "metadata": {
    "vscode": {
     "languageId": "html"
    }
   },
   "outputs": [],
   "source": [
    "<!DOCTYPE html>\n",
    "<html>\n",
    "    <head>\n",
    "        <title>Adjacent Sibling Selector</title>\n",
    "        <style>\n",
    "            div + p {\n",
    "                background-color: yellow;\n",
    "            }\n",
    "        </style>\n",
    "    </head>\n",
    "    <body>\n",
    "        <div>\n",
    "            <p>This is not affected</p>\n",
    "            <p>This is not affected</p>\n",
    "        </div>\n",
    "        <p>This is affected</p>\n",
    "        <p>This is not</p>\n",
    "    </body>\n",
    "</html>"
   ]
  },
  {
   "cell_type": "markdown",
   "metadata": {},
   "source": [
    "## General Sibling Selector (~)\n",
    "Selects all elements that is next siblings of specific element."
   ]
  },
  {
   "cell_type": "code",
   "execution_count": null,
   "metadata": {
    "vscode": {
     "languageId": "html"
    }
   },
   "outputs": [],
   "source": [
    "<!DOCTYPE html>\n",
    "<html>\n",
    "    <head>\n",
    "        <title>General Sibling Selector</title>\n",
    "        <style>\n",
    "            div ~ p {\n",
    "                background-color: yellow;;\n",
    "            }\n",
    "        </style>\n",
    "    </head>\n",
    "    <body>\n",
    "        <h2>General Sibling Selector</h2>\n",
    "        <p>The general sibling selector (~) selects all elements that are next siblings of a specified element.</p>\n",
    "        <p>Paragraph 1.</p>\n",
    "\n",
    "        <div>\n",
    "        <p>Paragraph 2.</p>\n",
    "        </div>\n",
    "\n",
    "        <section> <p>Paragraph 3.</p> </section>\n",
    "        <code>Some code.</code>\n",
    "        <p>Paragraph 4.</p>\n",
    "        <p>Paragraph 5.</p>\n",
    "    </body>\n",
    "</html>"
   ]
  },
  {
   "cell_type": "markdown",
   "metadata": {},
   "source": [
    "# Background Image\n",
    "- In order to set a background image, we need to do it as an internal CSS (declared in the head) and using the body selector."
   ]
  },
  {
   "cell_type": "code",
   "execution_count": null,
   "metadata": {
    "vscode": {
     "languageId": "html"
    }
   },
   "outputs": [],
   "source": [
    "<!DOCTYPE html>\n",
    "<html>\n",
    "    <head>\n",
    "        <title></title>\n",
    "        <style>\n",
    "            body {\n",
    "                background-image: url();\n",
    "            }\n",
    "        </style>\n",
    "    </head>\n",
    "</html>"
   ]
  }
 ],
 "metadata": {
  "language_info": {
   "name": "python"
  }
 },
 "nbformat": 4,
 "nbformat_minor": 2
}
