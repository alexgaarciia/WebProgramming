{
 "cells": [
  {
   "cell_type": "markdown",
   "metadata": {},
   "source": [
    "# Learning JavaScript\n",
    "- Developed by **Brendan Eich** as LiveScript."
   ]
  },
  {
   "cell_type": "markdown",
   "metadata": {},
   "source": [
    "## JavaScript vs Java\n",
    "- They are only related through syntax.\n",
    "- JavaScript is for FrontEnd and Java for BackEnd."
   ]
  },
  {
   "cell_type": "markdown",
   "metadata": {},
   "source": [
    "# General Syntax\n",
    "There are two ways of using JavaScript in HTML (all of them done in the **body**):\n",
    "1. Importing a JavaScript file.\n",
    "2. Embed JavaScript code."
   ]
  },
  {
   "cell_type": "code",
   "execution_count": null,
   "metadata": {
    "vscode": {
     "languageId": "html"
    }
   },
   "outputs": [],
   "source": [
    "<!DOCTYPE html>\n",
    "<html>\n",
    "    <body>\n",
    "        <script src=\"\"></script>\n",
    "    </body>\n",
    "</html>"
   ]
  },
  {
   "cell_type": "code",
   "execution_count": null,
   "metadata": {
    "vscode": {
     "languageId": "html"
    }
   },
   "outputs": [],
   "source": [
    "<!DOCTYPE html>\n",
    "<html>\n",
    "    <body>\n",
    "        <script>\n",
    "            // JavaScript goes here\n",
    "        </script>\n",
    "    </body>\n",
    "</html>"
   ]
  },
  {
   "cell_type": "markdown",
   "metadata": {},
   "source": [
    "# Primitive Types\n",
    "- The five primitive types of JavaScript are `Number`, `String`, `Boolean`, `Undefined`, or `Null`.\n",
    "- There are also wrapper objects: `Number`, `String`, and `Boolean`. A wrapper object is an object that wraps a primitive value providing methods and properties to operate on that value. It is often done automatically.\n"
   ]
  },
  {
   "cell_type": "markdown",
   "metadata": {},
   "source": [
    "# 4 Ways to Declare a JavaScript Variable\n",
    "- Using var: global, re-declarable, can be updated.\n",
    "- Using let: local, not re-declarable, can be updated.\n",
    "- Using const: local, not re-declarable, cannot be updated.\n",
    "- Using nothing."
   ]
  },
  {
   "cell_type": "markdown",
   "metadata": {},
   "source": [
    "# String Operations\n",
    "`REMEMBER: Operations are performed from left to right`."
   ]
  },
  {
   "cell_type": "markdown",
   "metadata": {},
   "source": [
    "## Addition\n",
    "+: both plus and string concatenation.\n",
    "\n",
    "`REMEMBER: + is addition IF AND ONLY IF both operands are numbers`."
   ]
  },
  {
   "cell_type": "markdown",
   "metadata": {},
   "source": [
    "1+2 = 3\n",
    "\n",
    "\"1\"+2=\"12\"\n",
    "\n",
    "1+\"2\"=\"12\"\n",
    "\n",
    "\"1\"+\"2\"=\"12\"\n",
    "\n",
    "1+\"bird\"=\"1bird\"\n",
    "\n",
    "1+2+\"birds\"=\"3birds\""
   ]
  },
  {
   "cell_type": "markdown",
   "metadata": {},
   "source": [
    "## Comparison\n",
    "1. If one operand is number, and the other can be converted to a number, **< is a number comparison.**\n",
    "2. If one operand is number, and the other cannot be converted to a number, **false all the time.**\n",
    "3. If two operands are string, **< is a string comparison (check ASCII table).**"
   ]
  },
  {
   "cell_type": "markdown",
   "metadata": {},
   "source": [
    "11 < 2: false\n",
    "\n",
    "\"11\" < 2: false\n",
    "\n",
    "11 < \"2\": false\n",
    "\n",
    "\"11\" < \"2\": true (check ASCII table)\n",
    "\n",
    "11 < \"bird\": false"
   ]
  },
  {
   "cell_type": "markdown",
   "metadata": {},
   "source": [
    "## Multiplication\n",
    "1. If operands are numbers, or all can be converted to a number, * **is a number multiplication.**\n",
    "2. If one operand is a number, and the other cannot be converted to a number, **NaN all the time.**"
   ]
  },
  {
   "cell_type": "markdown",
   "metadata": {},
   "source": [
    "11 * 2 = 22\n",
    "\n",
    "\"11\" * 2 = 22\n",
    "\n",
    "11 * \"2bird\" = NaN"
   ]
  }
 ],
 "metadata": {
  "language_info": {
   "name": "python"
  }
 },
 "nbformat": 4,
 "nbformat_minor": 2
}
